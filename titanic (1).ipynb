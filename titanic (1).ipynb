{
 "cells": [
  {
   "cell_type": "code",
   "execution_count": 1,
   "id": "correct-question",
   "metadata": {
    "_cell_guid": "b98dd02f-7890-4a6f-be68-931b159bd310",
    "_uuid": "669a087a-fa28-46c3-a8ae-c3240744bbd4",
    "collapsed": false,
    "execution": {
     "iopub.execute_input": "2021-05-20T01:23:23.597304Z",
     "iopub.status.busy": "2021-05-20T01:23:23.596068Z",
     "iopub.status.idle": "2021-05-20T01:23:23.608924Z",
     "shell.execute_reply": "2021-05-20T01:23:23.609617Z",
     "shell.execute_reply.started": "2021-05-19T23:08:41.194558Z"
    },
    "jupyter": {
     "outputs_hidden": false
    },
    "papermill": {
     "duration": 0.027949,
     "end_time": "2021-05-20T01:23:23.610038",
     "exception": false,
     "start_time": "2021-05-20T01:23:23.582089",
     "status": "completed"
    },
    "tags": []
   },
   "outputs": [
    {
     "name": "stdout",
     "output_type": "stream",
     "text": [
      "/kaggle/input/titanic/train.csv\n",
      "/kaggle/input/titanic/test.csv\n",
      "/kaggle/input/titanic/gender_submission.csv\n"
     ]
    }
   ],
   "source": [
    "# This Python 3 environment comes with many helpful analytics libraries installed\n",
    "# It is defined by the kaggle/python Docker image: https://github.com/kaggle/docker-python\n",
    "# For example, here's several helpful packages to load\n",
    "\n",
    "import numpy as np # linear algebra\n",
    "import pandas as pd # data processing, CSV file I/O (e.g. pd.read_csv)\n",
    "\n",
    "# Input data files are available in the read-only \"../input/\" directory\n",
    "# For example, running this (by clicking run or pressing Shift+Enter) will list all files under the input directory\n",
    "\n",
    "import os\n",
    "for dirname, _, filenames in os.walk('/kaggle/input'):\n",
    "    for filename in filenames:\n",
    "        print(os.path.join(dirname, filename))\n",
    "\n",
    "# You can write up to 20GB to the current directory (/kaggle/working/) that gets preserved as output when you create a version using \"Save & Run All\" \n",
    "# You can also write temporary files to /kaggle/temp/, but they won't be saved outside of the current session"
   ]
  },
  {
   "cell_type": "code",
   "execution_count": 2,
   "id": "voluntary-basin",
   "metadata": {
    "_cell_guid": "bbf6fba7-ee1e-46cf-9279-2416d6b533e9",
    "_uuid": "4c8a0935-7793-40a2-90fe-44b52ac994ed",
    "collapsed": false,
    "execution": {
     "iopub.execute_input": "2021-05-20T01:23:23.635590Z",
     "iopub.status.busy": "2021-05-20T01:23:23.634887Z",
     "iopub.status.idle": "2021-05-20T01:23:23.724057Z",
     "shell.execute_reply": "2021-05-20T01:23:23.725122Z",
     "shell.execute_reply.started": "2021-05-20T00:59:33.488804Z"
    },
    "jupyter": {
     "outputs_hidden": false
    },
    "papermill": {
     "duration": 0.103473,
     "end_time": "2021-05-20T01:23:23.725321",
     "exception": false,
     "start_time": "2021-05-20T01:23:23.621848",
     "status": "completed"
    },
    "tags": []
   },
   "outputs": [
    {
     "data": {
      "text/html": [
       "<div>\n",
       "<style scoped>\n",
       "    .dataframe tbody tr th:only-of-type {\n",
       "        vertical-align: middle;\n",
       "    }\n",
       "\n",
       "    .dataframe tbody tr th {\n",
       "        vertical-align: top;\n",
       "    }\n",
       "\n",
       "    .dataframe thead th {\n",
       "        text-align: right;\n",
       "    }\n",
       "</style>\n",
       "<table border=\"1\" class=\"dataframe\">\n",
       "  <thead>\n",
       "    <tr style=\"text-align: right;\">\n",
       "      <th></th>\n",
       "      <th>PassengerId</th>\n",
       "    </tr>\n",
       "  </thead>\n",
       "  <tbody>\n",
       "    <tr>\n",
       "      <th>0</th>\n",
       "      <td>892</td>\n",
       "    </tr>\n",
       "    <tr>\n",
       "      <th>1</th>\n",
       "      <td>893</td>\n",
       "    </tr>\n",
       "    <tr>\n",
       "      <th>2</th>\n",
       "      <td>894</td>\n",
       "    </tr>\n",
       "    <tr>\n",
       "      <th>3</th>\n",
       "      <td>895</td>\n",
       "    </tr>\n",
       "    <tr>\n",
       "      <th>4</th>\n",
       "      <td>896</td>\n",
       "    </tr>\n",
       "    <tr>\n",
       "      <th>...</th>\n",
       "      <td>...</td>\n",
       "    </tr>\n",
       "    <tr>\n",
       "      <th>413</th>\n",
       "      <td>1305</td>\n",
       "    </tr>\n",
       "    <tr>\n",
       "      <th>414</th>\n",
       "      <td>1306</td>\n",
       "    </tr>\n",
       "    <tr>\n",
       "      <th>415</th>\n",
       "      <td>1307</td>\n",
       "    </tr>\n",
       "    <tr>\n",
       "      <th>416</th>\n",
       "      <td>1308</td>\n",
       "    </tr>\n",
       "    <tr>\n",
       "      <th>417</th>\n",
       "      <td>1309</td>\n",
       "    </tr>\n",
       "  </tbody>\n",
       "</table>\n",
       "<p>418 rows × 1 columns</p>\n",
       "</div>"
      ],
      "text/plain": [
       "     PassengerId\n",
       "0            892\n",
       "1            893\n",
       "2            894\n",
       "3            895\n",
       "4            896\n",
       "..           ...\n",
       "413         1305\n",
       "414         1306\n",
       "415         1307\n",
       "416         1308\n",
       "417         1309\n",
       "\n",
       "[418 rows x 1 columns]"
      ]
     },
     "execution_count": 2,
     "metadata": {},
     "output_type": "execute_result"
    }
   ],
   "source": [
    "# data loader\n",
    "\n",
    "class dataLoader:\n",
    "    \"\"\"\n",
    "    Load data \n",
    "    \"\"\"\n",
    "    def __init__(self, train_filename, test_filename, normalize = ['Age', 'Fare']):\n",
    "        \n",
    "        self.train = pd.read_csv(train_filename)\n",
    "        self.test  = pd.read_csv(test_filename)\n",
    "        \n",
    "        for cts_variable in normalize:\n",
    "            self.normalize(cts_variable)\n",
    "        \n",
    "        #self.remove_na()\n",
    "        #self.train_label = self.train.pop('Survived')\n",
    "    \n",
    "    def remove_na(self):\n",
    "        \"\"\" Remove empty or invalid elements\"\"\"\n",
    "        self.train.fillna(0, inplace = True)\n",
    "        self.test.fillna(0, inplace = True)\n",
    "    \n",
    "    def normalize(self, column_name):\n",
    "        \"\"\" Normalize continuous data to zero mean and standard deviation of 1\"\"\"\n",
    "        \n",
    "        mu = self.train[column_name].mean()\n",
    "        std = self.train[column_name].std()\n",
    "        \n",
    "        self.train[column_name] = (self.train[column_name] - mu) / std\n",
    "        self.test[column_name] = (self.test[column_name] - mu) / std\n",
    "    \n",
    "    def summary(self):\n",
    "        \"\"\" Output summary of data and first few rows\"\"\"\n",
    "        print('Training set:')\n",
    "        #print(self.train.head())\n",
    "        print(self.train.describe())\n",
    "        \n",
    "        print('Testing set:')\n",
    "        #print(self.test.head())\n",
    "        print(self.test.describe())\n",
    "        \n",
    "    \n",
    "raw_data = dataLoader('/kaggle/input/titanic/train.csv', '/kaggle/input/titanic/test.csv')\n",
    "raw_data.train\n",
    "raw_data.test\n",
    "\n",
    "test_ids = raw_data.test[['PassengerId']]\n",
    "test_ids"
   ]
  },
  {
   "cell_type": "code",
   "execution_count": 3,
   "id": "fifth-advice",
   "metadata": {
    "_cell_guid": "0fe3c18e-61f6-4fe8-b4ef-f60bc4749f53",
    "_uuid": "763770cd-9565-4d47-852d-98f41f9f159c",
    "collapsed": false,
    "execution": {
     "iopub.execute_input": "2021-05-20T01:23:23.779660Z",
     "iopub.status.busy": "2021-05-20T01:23:23.778835Z",
     "iopub.status.idle": "2021-05-20T01:23:23.804111Z",
     "shell.execute_reply": "2021-05-20T01:23:23.804594Z",
     "shell.execute_reply.started": "2021-05-20T00:59:37.976398Z"
    },
    "jupyter": {
     "outputs_hidden": false
    },
    "papermill": {
     "duration": 0.061873,
     "end_time": "2021-05-20T01:23:23.804775",
     "exception": false,
     "start_time": "2021-05-20T01:23:23.742902",
     "status": "completed"
    },
    "tags": []
   },
   "outputs": [],
   "source": [
    "# remove features that are not useful for now\n",
    "raw_data.train.drop(columns = ['PassengerId', 'Ticket', 'Name'], inplace=True)\n",
    "raw_data.test.drop(columns = ['PassengerId', 'Ticket', 'Name'], inplace=True)\n",
    "\n",
    "# take the first element of the cabin feature\n",
    "raw_data.train['Cabin'] = raw_data.train['Cabin'].str[0]\n",
    "raw_data.test['Cabin'] = raw_data.test['Cabin'].str[0]\n",
    "\n",
    "# encode class features using one hot encoding - try combining test to get same number of splits\n",
    "raw_data.train = pd.get_dummies(raw_data.train, columns = ['Sex', 'Embarked', 'Cabin'], drop_first = True)\n",
    "raw_data.test = pd.get_dummies(raw_data.test, columns = ['Sex', 'Embarked', 'Cabin'], drop_first = True)\n",
    "\n",
    "# remove nan values from age, ...\n",
    "raw_data.remove_na()\n",
    "train_label = raw_data.train.pop('Survived')\n",
    "\n",
    "# ensure train and test sets have same number of columns\n",
    "missing_cols = set( raw_data.train.columns ) - set( raw_data.test.columns )\n",
    "# Add a missing column in test set with default value equal to 0\n",
    "for c in missing_cols:\n",
    "    raw_data.test[c] = 0\n",
    "# Ensure the order of column in the test set is in the same order than in train set\n",
    "raw_data.test = raw_data.test[raw_data.train.columns]"
   ]
  },
  {
   "cell_type": "code",
   "execution_count": 4,
   "id": "popular-celebrity",
   "metadata": {
    "_cell_guid": "f3eb3e91-c250-45d8-a1c3-d303e2e1f351",
    "_uuid": "1c3c0752-c074-4980-908f-7ffa27071738",
    "collapsed": false,
    "execution": {
     "iopub.execute_input": "2021-05-20T01:23:23.833553Z",
     "iopub.status.busy": "2021-05-20T01:23:23.832860Z",
     "iopub.status.idle": "2021-05-20T01:23:25.157258Z",
     "shell.execute_reply": "2021-05-20T01:23:25.158081Z",
     "shell.execute_reply.started": "2021-05-20T00:59:41.229043Z"
    },
    "jupyter": {
     "outputs_hidden": false
    },
    "papermill": {
     "duration": 1.342419,
     "end_time": "2021-05-20T01:23:25.158361",
     "exception": false,
     "start_time": "2021-05-20T01:23:23.815942",
     "status": "completed"
    },
    "tags": []
   },
   "outputs": [
    {
     "data": {
      "text/plain": [
       "0.8022388059701493"
      ]
     },
     "execution_count": 4,
     "metadata": {},
     "output_type": "execute_result"
    }
   ],
   "source": [
    "from sklearn.model_selection import train_test_split\n",
    "\n",
    "X_train, X_test, y_train, y_test = train_test_split(raw_data.train, train_label, test_size=0.3, random_state=0)\n",
    "\n",
    "# create model (RF, XGBoost, ...)\n",
    "from sklearn.linear_model import LogisticRegression\n",
    "\n",
    "model = LogisticRegression(random_state=0)\n",
    "model = model.fit(X_train, y_train)\n",
    "test_acc = model.score(X_test, y_test)\n",
    "test_acc"
   ]
  },
  {
   "cell_type": "code",
   "execution_count": 5,
   "id": "noble-tennis",
   "metadata": {
    "execution": {
     "iopub.execute_input": "2021-05-20T01:23:25.209181Z",
     "iopub.status.busy": "2021-05-20T01:23:25.208139Z",
     "iopub.status.idle": "2021-05-20T01:23:25.263264Z",
     "shell.execute_reply": "2021-05-20T01:23:25.264230Z",
     "shell.execute_reply.started": "2021-05-20T00:59:43.905124Z"
    },
    "papermill": {
     "duration": 0.085523,
     "end_time": "2021-05-20T01:23:25.264503",
     "exception": false,
     "start_time": "2021-05-20T01:23:25.178980",
     "status": "completed"
    },
    "tags": []
   },
   "outputs": [
    {
     "name": "stdout",
     "output_type": "stream",
     "text": [
      "[LibSVM]"
     ]
    },
    {
     "data": {
      "text/plain": [
       "0.8097014925373134"
      ]
     },
     "execution_count": 5,
     "metadata": {},
     "output_type": "execute_result"
    }
   ],
   "source": [
    "from sklearn import svm\n",
    "model = svm.SVC(kernel = 'rbf', degree = 2, verbose = True)\n",
    "model = model.fit(X_train, y_train)\n",
    "test_acc = model.score(X_test, y_test)\n",
    "test_acc"
   ]
  },
  {
   "cell_type": "code",
   "execution_count": 6,
   "id": "documented-algeria",
   "metadata": {
    "execution": {
     "iopub.execute_input": "2021-05-20T01:23:25.292464Z",
     "iopub.status.busy": "2021-05-20T01:23:25.291545Z",
     "iopub.status.idle": "2021-05-20T01:23:25.631575Z",
     "shell.execute_reply": "2021-05-20T01:23:25.630776Z",
     "shell.execute_reply.started": "2021-05-20T00:59:46.162021Z"
    },
    "papermill": {
     "duration": 0.354584,
     "end_time": "2021-05-20T01:23:25.631737",
     "exception": false,
     "start_time": "2021-05-20T01:23:25.277153",
     "status": "completed"
    },
    "tags": []
   },
   "outputs": [
    {
     "data": {
      "text/plain": [
       "0.8171641791044776"
      ]
     },
     "execution_count": 6,
     "metadata": {},
     "output_type": "execute_result"
    }
   ],
   "source": [
    "from sklearn.ensemble import RandomForestClassifier\n",
    "model = RandomForestClassifier(n_estimators =80, max_depth = 9, random_state = 0)\n",
    "model = model.fit(X_train, y_train)\n",
    "test_acc = model.score(X_test, y_test)\n",
    "test_acc"
   ]
  },
  {
   "cell_type": "code",
   "execution_count": 7,
   "id": "automatic-fundamentals",
   "metadata": {
    "execution": {
     "iopub.execute_input": "2021-05-20T01:23:25.664472Z",
     "iopub.status.busy": "2021-05-20T01:23:25.663421Z",
     "iopub.status.idle": "2021-05-20T01:23:25.696619Z",
     "shell.execute_reply": "2021-05-20T01:23:25.695965Z",
     "shell.execute_reply.started": "2021-05-20T01:13:46.646278Z"
    },
    "papermill": {
     "duration": 0.052497,
     "end_time": "2021-05-20T01:23:25.696758",
     "exception": false,
     "start_time": "2021-05-20T01:23:25.644261",
     "status": "completed"
    },
    "tags": []
   },
   "outputs": [
    {
     "data": {
      "text/html": [
       "<div>\n",
       "<style scoped>\n",
       "    .dataframe tbody tr th:only-of-type {\n",
       "        vertical-align: middle;\n",
       "    }\n",
       "\n",
       "    .dataframe tbody tr th {\n",
       "        vertical-align: top;\n",
       "    }\n",
       "\n",
       "    .dataframe thead th {\n",
       "        text-align: right;\n",
       "    }\n",
       "</style>\n",
       "<table border=\"1\" class=\"dataframe\">\n",
       "  <thead>\n",
       "    <tr style=\"text-align: right;\">\n",
       "      <th></th>\n",
       "      <th>PassengerId</th>\n",
       "      <th>Survived</th>\n",
       "    </tr>\n",
       "  </thead>\n",
       "  <tbody>\n",
       "    <tr>\n",
       "      <th>0</th>\n",
       "      <td>892</td>\n",
       "      <td>0</td>\n",
       "    </tr>\n",
       "    <tr>\n",
       "      <th>1</th>\n",
       "      <td>893</td>\n",
       "      <td>0</td>\n",
       "    </tr>\n",
       "    <tr>\n",
       "      <th>2</th>\n",
       "      <td>894</td>\n",
       "      <td>0</td>\n",
       "    </tr>\n",
       "    <tr>\n",
       "      <th>3</th>\n",
       "      <td>895</td>\n",
       "      <td>0</td>\n",
       "    </tr>\n",
       "    <tr>\n",
       "      <th>4</th>\n",
       "      <td>896</td>\n",
       "      <td>0</td>\n",
       "    </tr>\n",
       "    <tr>\n",
       "      <th>...</th>\n",
       "      <td>...</td>\n",
       "      <td>...</td>\n",
       "    </tr>\n",
       "    <tr>\n",
       "      <th>413</th>\n",
       "      <td>1305</td>\n",
       "      <td>0</td>\n",
       "    </tr>\n",
       "    <tr>\n",
       "      <th>414</th>\n",
       "      <td>1306</td>\n",
       "      <td>1</td>\n",
       "    </tr>\n",
       "    <tr>\n",
       "      <th>415</th>\n",
       "      <td>1307</td>\n",
       "      <td>0</td>\n",
       "    </tr>\n",
       "    <tr>\n",
       "      <th>416</th>\n",
       "      <td>1308</td>\n",
       "      <td>0</td>\n",
       "    </tr>\n",
       "    <tr>\n",
       "      <th>417</th>\n",
       "      <td>1309</td>\n",
       "      <td>0</td>\n",
       "    </tr>\n",
       "  </tbody>\n",
       "</table>\n",
       "<p>418 rows × 2 columns</p>\n",
       "</div>"
      ],
      "text/plain": [
       "     PassengerId  Survived\n",
       "0            892         0\n",
       "1            893         0\n",
       "2            894         0\n",
       "3            895         0\n",
       "4            896         0\n",
       "..           ...       ...\n",
       "413         1305         0\n",
       "414         1306         1\n",
       "415         1307         0\n",
       "416         1308         0\n",
       "417         1309         0\n",
       "\n",
       "[418 rows x 2 columns]"
      ]
     },
     "execution_count": 7,
     "metadata": {},
     "output_type": "execute_result"
    }
   ],
   "source": [
    "# save predictions\n",
    "test_pred = model.predict(raw_data.test)\n",
    "#np.shape(test_pred)\n",
    "\n",
    "submission = test_ids\n",
    "submission[\"Survived\"] = test_pred\n",
    "\n",
    "submission.to_csv('/kaggle/working/submission.csv', index = False)\n",
    "submission"
   ]
  },
  {
   "cell_type": "code",
   "execution_count": 8,
   "id": "reflected-honor",
   "metadata": {
    "_cell_guid": "ed7a938c-bf23-43f1-90e9-73fbc15e6d30",
    "_uuid": "d13b7b95-c82f-475a-8907-15828cfe1b5d",
    "collapsed": false,
    "execution": {
     "iopub.execute_input": "2021-05-20T01:23:25.727322Z",
     "iopub.status.busy": "2021-05-20T01:23:25.726332Z",
     "iopub.status.idle": "2021-05-20T01:23:25.729864Z",
     "shell.execute_reply": "2021-05-20T01:23:25.729309Z",
     "shell.execute_reply.started": "2021-05-20T01:13:42.193289Z"
    },
    "jupyter": {
     "outputs_hidden": false
    },
    "papermill": {
     "duration": 0.02052,
     "end_time": "2021-05-20T01:23:25.730048",
     "exception": false,
     "start_time": "2021-05-20T01:23:25.709528",
     "status": "completed"
    },
    "tags": []
   },
   "outputs": [],
   "source": [
    "# ensemble models (Decision tree)"
   ]
  },
  {
   "cell_type": "code",
   "execution_count": 9,
   "id": "another-kentucky",
   "metadata": {
    "_cell_guid": "442f54a8-82a5-406b-a8d3-9747f9fed9e1",
    "_uuid": "106a92b4-7cf5-459c-a4bb-dd4eb543ba39",
    "collapsed": false,
    "execution": {
     "iopub.execute_input": "2021-05-20T01:23:25.761918Z",
     "iopub.status.busy": "2021-05-20T01:23:25.760916Z",
     "iopub.status.idle": "2021-05-20T01:23:25.764210Z",
     "shell.execute_reply": "2021-05-20T01:23:25.763662Z"
    },
    "jupyter": {
     "outputs_hidden": false
    },
    "papermill": {
     "duration": 0.02095,
     "end_time": "2021-05-20T01:23:25.764349",
     "exception": false,
     "start_time": "2021-05-20T01:23:25.743399",
     "status": "completed"
    },
    "tags": []
   },
   "outputs": [],
   "source": [
    "# hyperparameter tuning (GA?)"
   ]
  },
  {
   "cell_type": "code",
   "execution_count": 10,
   "id": "exciting-criminal",
   "metadata": {
    "_cell_guid": "fc54a8af-00fc-4b10-b60d-91ec3b48800a",
    "_uuid": "cb5e1f96-cb7d-4a79-8568-70701fbecdae",
    "collapsed": false,
    "execution": {
     "iopub.execute_input": "2021-05-20T01:23:25.795589Z",
     "iopub.status.busy": "2021-05-20T01:23:25.794597Z",
     "iopub.status.idle": "2021-05-20T01:23:25.797640Z",
     "shell.execute_reply": "2021-05-20T01:23:25.797111Z"
    },
    "jupyter": {
     "outputs_hidden": false
    },
    "papermill": {
     "duration": 0.019689,
     "end_time": "2021-05-20T01:23:25.797775",
     "exception": false,
     "start_time": "2021-05-20T01:23:25.778086",
     "status": "completed"
    },
    "tags": []
   },
   "outputs": [],
   "source": [
    "# model evaluation (confusion matrics, accuracy)"
   ]
  }
 ],
 "metadata": {
  "kernelspec": {
   "display_name": "Python 3",
   "language": "python",
   "name": "python3"
  },
  "language_info": {
   "codemirror_mode": {
    "name": "ipython",
    "version": 3
   },
   "file_extension": ".py",
   "mimetype": "text/x-python",
   "name": "python",
   "nbconvert_exporter": "python",
   "pygments_lexer": "ipython3",
   "version": "3.7.10"
  },
  "papermill": {
   "default_parameters": {},
   "duration": 11.409572,
   "end_time": "2021-05-20T01:23:26.520753",
   "environment_variables": {},
   "exception": null,
   "input_path": "__notebook__.ipynb",
   "output_path": "__notebook__.ipynb",
   "parameters": {},
   "start_time": "2021-05-20T01:23:15.111181",
   "version": "2.3.3"
  }
 },
 "nbformat": 4,
 "nbformat_minor": 5
}
